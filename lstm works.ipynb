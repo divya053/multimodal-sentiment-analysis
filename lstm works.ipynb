{
 "cells": [
  {
   "cell_type": "code",
   "execution_count": 6,
   "metadata": {},
   "outputs": [],
   "source": [
    "import re\n",
    "from keras.preprocessing.text import Tokenizer\n",
    "from keras.preprocessing.sequence import pad_sequences\n",
    "from keras.models import load_model\n",
    "import pandas as pd"
   ]
  },
  {
   "cell_type": "code",
   "execution_count": 9,
   "metadata": {},
   "outputs": [],
   "source": [
    "tokens = pd.read_csv('tokens.csv')\n",
    "tokens_cleaned = tokens.dropna(subset=['text'])\n"
   ]
  },
  {
   "cell_type": "code",
   "execution_count": 13,
   "metadata": {},
   "outputs": [],
   "source": [
    "tokenizer = Tokenizer(num_words=10000, oov_token='<OOV>')\n",
    "tokenizer.fit_on_texts(tokens_cleaned['text'])"
   ]
  },
  {
   "cell_type": "code",
   "execution_count": 14,
   "metadata": {},
   "outputs": [
    {
     "name": "stdout",
     "output_type": "stream",
     "text": [
      "1/1 [==============================] - 1s 1s/step\n",
      "0.040225506\n",
      "The sentiment of the input text is: NEGATIVE\n"
     ]
    }
   ],
   "source": [
    "def preprocess_text(text):\n",
    "    text = re.sub(r\"@\\S+|https?:\\S+|http?:\\S|[^A-Za-z0-9]+\", ' ', text)\n",
    "    return text.lower().strip()\n",
    "\n",
    "new_text = \"i dont like this movie\"\n",
    "new_text = preprocess_text(new_text)\n",
    "model = load_model('text.h5')\n",
    "\n",
    "new_sequence = tokenizer.texts_to_sequences([new_text])\n",
    "new_padded = pad_sequences(new_sequence, maxlen=50, padding='post', truncating='post')\n",
    "\n",
    "prediction = model.predict(new_padded)\n",
    "print(prediction[0][0])\n",
    "\n",
    "if prediction[0][0] >= 0.5:\n",
    "    sentiment = 'POSITIVE'\n",
    "else:\n",
    "    sentiment = 'NEGATIVE'\n",
    "\n",
    "print(f\"The sentiment of the input text is: {sentiment}\")"
   ]
  }
 ],
 "metadata": {
  "kernelspec": {
   "display_name": "Python 3",
   "language": "python",
   "name": "python3"
  },
  "language_info": {
   "codemirror_mode": {
    "name": "ipython",
    "version": 3
   },
   "file_extension": ".py",
   "mimetype": "text/x-python",
   "name": "python",
   "nbconvert_exporter": "python",
   "pygments_lexer": "ipython3",
   "version": "3.10.0"
  }
 },
 "nbformat": 4,
 "nbformat_minor": 2
}
